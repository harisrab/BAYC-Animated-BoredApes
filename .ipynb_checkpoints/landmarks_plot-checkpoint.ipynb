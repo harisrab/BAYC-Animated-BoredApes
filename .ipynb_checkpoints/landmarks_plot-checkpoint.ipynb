{
 "cells": [
  {
   "cell_type": "code",
   "execution_count": 120,
   "metadata": {},
   "outputs": [],
   "source": [
    "from pathlib import Path\n",
    "from typing import Union\n",
    "import numpy as np\n",
    "import cv2\n",
    "%matplotlib inline\n"
   ]
  },
  {
   "cell_type": "code",
   "execution_count": 121,
   "metadata": {},
   "outputs": [],
   "source": [
    "image = '/home/haris/BAYC-Animated-BoredApes/ape_src/ape2.jpg'\n",
    "faceLandmarks = '/home/haris/BAYC-Animated-BoredApes/ape_src/ape2_face_open_mouth.txt'\n",
    "startpoint = 1\n",
    "endpoint = 68\n"
   ]
  },
  {
   "cell_type": "code",
   "execution_count": 122,
   "metadata": {},
   "outputs": [],
   "source": [
    "def drawPoints(image, faceLandmarks, startpoint, endpoint, isClosed=False):\n",
    "    points = []\n",
    "    image = cv2.imread(image, 0)\n",
    "    for i in range(startpoint, endpoint+1):\n",
    "        point = [faceLandmarks[i][0], faceLandmarks[i][1]]\n",
    "        points.append(point)\n",
    "\n",
    "    points = np.array(points, dtype=np.int32)\n",
    "    img = cv2.polylines(image, [points], isClosed, (255, 200, 0),\n",
    "                  thickness=1, lineType=cv2.LINE_8)\n",
    "    # Displaying the image\n",
    "    while(1):\n",
    "\n",
    "        cv2.imshow('image', image)\n",
    "        if cv2.waitKey(0) & 0xFF == 27:\n",
    "            break\n",
    "\n",
    "    cv2.destroyAllWindows()\n"
   ]
  },
  {
   "cell_type": "code",
   "execution_count": 123,
   "metadata": {},
   "outputs": [],
   "source": [
    "def facePoints(image, faceLandmarks):\n",
    "    assert(len(faceLandmarks) == 68)\n",
    "    drawPoints(image, faceLandmarks, 0, 16)           # 0-16: Jaw line\n",
    "    drawPoints(image, faceLandmarks, 17, 21)          # 17-21: Left eyebrow\n",
    "    drawPoints(image, faceLandmarks, 22, 26)          # 22-26: Right eyebrow\n",
    "    drawPoints(image, faceLandmarks, 27, 30)          # 27-30: Nose bridge\n",
    "    drawPoints(image, faceLandmarks, 30, 35, True)    # 30-35: Lower nose\n",
    "    drawPoints(image, faceLandmarks, 36, 41, True)    # 36-41: Left eye\n",
    "    drawPoints(image, faceLandmarks, 42, 47, True)    # 42-47: Right Eye\n",
    "    drawPoints(image, faceLandmarks, 48, 59, True)    # 48-59: Outer lip\n",
    "    drawPoints(image, faceLandmarks, 60, 67, True)    # 60-67: Inner lip"
   ]
  },
  {
   "cell_type": "code",
   "execution_count": 124,
   "metadata": {},
   "outputs": [],
   "source": [
    "def facePoints2(image, faceLandmarks, color=(0, 255, 0), radius=4):\n",
    "    for p in faceLandmarks.parts():\n",
    "        cv2.circle(image, (p.x, p.y), radius, color, -1)"
   ]
  },
  {
   "cell_type": "code",
   "execution_count": 125,
   "metadata": {},
   "outputs": [],
   "source": [
    "def openMouthLandmarks(x_coord, y_coord):\n",
    "    fl = []\n",
    "    \n",
    "    for i in range(len(x_coord)):\n",
    "   \n",
    "        fl.append((x_coord[i], y_coord[i]))         \n",
    "    return fl"
   ]
  },
  {
   "cell_type": "code",
   "execution_count": 126,
   "metadata": {},
   "outputs": [],
   "source": [
    "x_coord = []\n",
    "y_coord = []\n",
    "\n",
    "with open(landmarks_path) as f:\n",
    "    lines = f.readlines()\n",
    "#     lines = lines[3:-1]\n",
    "    \n",
    "    \n",
    "    for i, eachLine in enumerate(lines):\n",
    "        eachLine = eachLine[:-1]\n",
    "        split = eachLine.split(\" \")\n",
    "        x_coord.append(float(split[0]))\n",
    "        y_coord.append(float(split[1]))        "
   ]
  },
  {
   "cell_type": "code",
   "execution_count": 127,
   "metadata": {},
   "outputs": [],
   "source": [
    "faceLandmarks = openMouthLandmarks(x_coord, y_coord)"
   ]
  },
  {
   "cell_type": "code",
   "execution_count": 128,
   "metadata": {},
   "outputs": [],
   "source": [
    "facePoints(image, faceLandmarks)"
   ]
  },
  {
   "cell_type": "code",
   "execution_count": 132,
   "metadata": {},
   "outputs": [],
   "source": [
    "def shrink_or_swell_shapely_polygon(my_polygon, factor=0.10, swell=False):\n",
    "    ''' returns the shapely polygon which is smaller or bigger by passed factor.\n",
    "        If swell = True , then it returns bigger polygon, else smaller '''\n",
    "    from shapely import geometry\n",
    "\n",
    "    #my_polygon = mask2poly['geometry'][120]\n",
    "\n",
    "    shrink_factor = 0.10 #Shrink by 10%\n",
    "    xs = list(my_polygon.exterior.coords.xy[0])\n",
    "    ys = list(my_polygon.exterior.coords.xy[1])\n",
    "    x_center = 0.5 * min(xs) + 0.5 * max(xs)\n",
    "    y_center = 0.5 * min(ys) + 0.5 * max(ys)\n",
    "    min_corner = geometry.Point(min(xs), min(ys))\n",
    "    max_corner = geometry.Point(max(xs), max(ys))\n",
    "    center = geometry.Point(x_center, y_center)\n",
    "    shrink_distance = center.distance(min_corner)*0.10\n",
    "\n",
    "    if swell:\n",
    "        my_polygon_resized = my_polygon.buffer(shrink_distance) #expand\n",
    "    else:\n",
    "        my_polygon_resized = my_polygon.buffer(-shrink_distance) #shrink\n",
    "\n",
    "    #visualize for debugging\n",
    "    #x, y = my_polygon.exterior.xy\n",
    "    #plt.plot(x,y)\n",
    "    #x, y = my_polygon_shrunken.exterior.xy\n",
    "    #plt.plot(x,y)\n",
    "    ## to net let the image be distorted along the axis\n",
    "    #plt.axis('equal')\n",
    "    #plt.show()    \n",
    "    \n",
    "    return my_polygon_resized"
   ]
  },
  {
   "cell_type": "code",
   "execution_count": 133,
   "metadata": {},
   "outputs": [],
   "source": [
    "from shapely.geometry import Polygon\n",
    "\n",
    "mouth = Polygon(faceLandmarks)\n",
    "\n",
    "shrunk_mouth = shrink_or_swell_shapely_polygon(mouth)"
   ]
  },
  {
   "cell_type": "code",
   "execution_count": null,
   "metadata": {},
   "outputs": [],
   "source": []
  }
 ],
 "metadata": {
  "interpreter": {
   "hash": "41d8f14059faf39cfb22c4f631b0edbf28e8b6a243236956f183081b9383f0a6"
  },
  "kernelspec": {
   "display_name": "Python 3 (ipykernel)",
   "language": "python",
   "name": "python3"
  },
  "language_info": {
   "codemirror_mode": {
    "name": "ipython",
    "version": 3
   },
   "file_extension": ".py",
   "mimetype": "text/x-python",
   "name": "python",
   "nbconvert_exporter": "python",
   "pygments_lexer": "ipython3",
   "version": "3.6.13"
  }
 },
 "nbformat": 4,
 "nbformat_minor": 2
}
