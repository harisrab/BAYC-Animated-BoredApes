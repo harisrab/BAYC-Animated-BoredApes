{
 "cells": [
  {
   "cell_type": "code",
   "execution_count": 1,
   "metadata": {},
   "outputs": [],
   "source": [
    "from pathlib import Path\n",
    "from typing import Union\n",
    "import numpy as np\n",
    "import cv2\n",
    "import matplotlib.pyplot as plt\n",
    "%matplotlib inline\n"
   ]
  },
  {
   "cell_type": "code",
   "execution_count": 2,
   "metadata": {},
   "outputs": [],
   "source": [
    "image = '/home/haris/BAYC-Animated-BoredApes/ape_src/ape2.jpg'\n",
    "faceLandmarks = '/home/haris/BAYC-Animated-BoredApes/ape_src/ape2_face_open_mouth.txt'\n",
    "startpoint = 1\n",
    "endpoint = 68\n"
   ]
  },
  {
   "cell_type": "code",
   "execution_count": 3,
   "metadata": {},
   "outputs": [],
   "source": [
    "def drawPoints(image, faceLandmarks, startpoint, endpoint, isClosed=False):\n",
    "    points = []\n",
    "    image = cv2.imread(image, 0)\n",
    "    for i in range(startpoint, endpoint+1):\n",
    "        point = [faceLandmarks[i][0], faceLandmarks[i][1]]\n",
    "        points.append(point)\n",
    "\n",
    "    points = np.array(points, dtype=np.int32)\n",
    "    img = cv2.polylines(image, [points], isClosed, (255, 200, 0),\n",
    "                  thickness=1, lineType=cv2.LINE_8)\n",
    "    # Displaying the image\n",
    "    while(1):\n",
    "\n",
    "        cv2.imshow('image', image)\n",
    "        if cv2.waitKey(0) & 0xFF == 27:\n",
    "            break\n",
    "\n",
    "    cv2.destroyAllWindows()\n"
   ]
  },
  {
   "cell_type": "code",
   "execution_count": 4,
   "metadata": {},
   "outputs": [],
   "source": [
    "def facePoints(image, faceLandmarks):\n",
    "    assert(len(faceLandmarks) == 68)\n",
    "    drawPoints(image, faceLandmarks, 0, 16)           # 0-16: Jaw line\n",
    "    drawPoints(image, faceLandmarks, 17, 21)          # 17-21: Left eyebrow\n",
    "    drawPoints(image, faceLandmarks, 22, 26)          # 22-26: Right eyebrow\n",
    "    drawPoints(image, faceLandmarks, 27, 30)          # 27-30: Nose bridge\n",
    "    drawPoints(image, faceLandmarks, 30, 35, True)    # 30-35: Lower nose\n",
    "    drawPoints(image, faceLandmarks, 36, 41, True)    # 36-41: Left eye\n",
    "    drawPoints(image, faceLandmarks, 42, 47, True)    # 42-47: Right Eye\n",
    "    drawPoints(image, faceLandmarks, 48, 59, True)    # 48-59: Outer lip\n",
    "    drawPoints(image, faceLandmarks, 60, 67, True)    # 60-67: Inner lip"
   ]
  },
  {
   "cell_type": "code",
   "execution_count": 5,
   "metadata": {},
   "outputs": [],
   "source": [
    "def facePoints2(image, faceLandmarks, color=(0, 255, 0), radius=4):\n",
    "    for p in faceLandmarks.parts():\n",
    "        cv2.circle(image, (p.x, p.y), radius, color, -1)"
   ]
  },
  {
   "cell_type": "code",
   "execution_count": 6,
   "metadata": {},
   "outputs": [],
   "source": [
    "def openMouthLandmarks(x_coord, y_coord):\n",
    "    fl = []\n",
    "    \n",
    "    for i in range(len(x_coord)):\n",
    "   \n",
    "        fl.append((x_coord[i], y_coord[i]))         \n",
    "    return fl"
   ]
  },
  {
   "cell_type": "code",
   "execution_count": 8,
   "metadata": {},
   "outputs": [],
   "source": [
    "x_coord = []\n",
    "y_coord = []\n",
    "\n",
    "with open(faceLandmarks) as f:\n",
    "    lines = f.readlines()\n",
    "#     lines = lines[3:-1]\n",
    "    \n",
    "    \n",
    "    for i, eachLine in enumerate(lines):\n",
    "        eachLine = eachLine[:-1]\n",
    "        split = eachLine.split(\" \")\n",
    "        x_coord.append(float(split[0]))\n",
    "        y_coord.append(float(split[1]))        "
   ]
  },
  {
   "cell_type": "code",
   "execution_count": 9,
   "metadata": {},
   "outputs": [],
   "source": [
    "faceLandmarks = openMouthLandmarks(x_coord, y_coord)"
   ]
  },
  {
   "cell_type": "code",
   "execution_count": 68,
   "metadata": {},
   "outputs": [],
   "source": [
    "facePoints(image, faceLandmarks)"
   ]
  },
  {
   "cell_type": "code",
   "execution_count": 10,
   "metadata": {},
   "outputs": [],
   "source": [
    "def shrink_swell(my_polygon, factor=0.10, swell=False):\n",
    "    ''' returns the shapely polygon which is smaller or bigger by passed factor.\n",
    "        If swell = True , then it returns bigger polygon, else smaller '''\n",
    "    \n",
    "    from shapely import geometry\n",
    "\n",
    "    #my_polygon = mask2poly['geometry'][120]\n",
    "\n",
    "    shrink_factor = 0.10 #Shrink by 10%\n",
    "    xs = list(my_polygon.exterior.coords.xy[0])\n",
    "    ys = list(my_polygon.exterior.coords.xy[1])\n",
    "    x_center = 0.5 * min(xs) + 0.5 * max(xs)\n",
    "    y_center = 0.5 * min(ys) + 0.5 * max(ys)\n",
    "    min_corner = geometry.Point(min(xs), min(ys))\n",
    "    max_corner = geometry.Point(max(xs), max(ys))\n",
    "    center = geometry.Point(x_center, y_center)\n",
    "    shrink_distance = center.distance(min_corner) * factor\n",
    "\n",
    "    if swell:\n",
    "        my_polygon_resized = my_polygon.buffer(+shrink_distance) #expand\n",
    "    else:\n",
    "        my_polygon_resized = my_polygon.buffer(-shrink_distance) #shrink\n",
    "   \n",
    "    \n",
    "    return my_polygon_resized"
   ]
  },
  {
   "cell_type": "code",
   "execution_count": 14,
   "metadata": {},
   "outputs": [],
   "source": [
    "from shapely.geometry import Polygon\n",
    "from shapely import affinity\n",
    "\n",
    "\n",
    "outer_mouth = Polygon(faceLandmarks[48:59])\n",
    "\n",
    "shrunk_mouth = affinity.scale(outer_mouth, xfact=-0.4, yfact=-0.4, origin='centroid')\n",
    "shrunk_mouth = affinity.rotate(shrunk_mouth, angle=180, origin=\"centroid\")\n",
    "\n",
    "swollen_mouth = affinity.scale(shrunk_mouth, xfact=2.5, yfact=2.5, origin='centroid')\n",
    "\n",
    "outer_mouth = affinity.scale(outer_mouth, xfact=1, yfact=1, origin='centroid')\n"
   ]
  },
  {
   "cell_type": "code",
   "execution_count": 15,
   "metadata": {},
   "outputs": [
    {
     "data": {
      "text/plain": [
       "11"
      ]
     },
     "execution_count": 15,
     "metadata": {},
     "output_type": "execute_result"
    }
   ],
   "source": [
    "len(faceLandmarks[48:59])"
   ]
  },
  {
   "cell_type": "code",
   "execution_count": 16,
   "metadata": {},
   "outputs": [
    {
     "data": {
      "text/plain": [
       "12"
      ]
     },
     "execution_count": 16,
     "metadata": {},
     "output_type": "execute_result"
    }
   ],
   "source": [
    "len(outer_mouth.exterior.coords)"
   ]
  },
  {
   "cell_type": "code",
   "execution_count": 17,
   "metadata": {
    "scrolled": true
   },
   "outputs": [
    {
     "data": {
      "image/png": "[encoded data removed]",
      "text/plain": [
       "<Figure size 432x288 with 1 Axes>"
      ]
     },
     "metadata": {
      "needs_background": "light"
     },
     "output_type": "display_data"
    }
   ],
   "source": [
    "x, y = outer_mouth.exterior.xy\n",
    "plt.plot(x,y, color='green', marker='o', linestyle='dashed', linewidth=1, markersize=5)\n",
    "\n",
    "x, y = shrunk_mouth.exterior.xy\n",
    "plt.plot(x,y, color='red', marker='o', linestyle='dashed', linewidth=1, markersize=5)\n",
    "\n",
    "x, y = swollen_mouth.exterior.xy\n",
    "plt.plot(x,y, color='red', marker='o', linestyle='dashed', linewidth=1, markersize=5)\n",
    "\n",
    "# to net let the image be distorted along the axis\n",
    "plt.axis('equal')\n",
    "plt.show() "
   ]
  },
  {
   "cell_type": "code",
   "execution_count": 44,
   "metadata": {},
   "outputs": [
    {
     "name": "stdout",
     "output_type": "stream",
     "text": [
      "Python 3.6.13 :: Anaconda, Inc.\r\n"
     ]
    }
   ],
   "source": [
    "! python --version"
   ]
  },
  {
   "cell_type": "markdown",
   "metadata": {},
   "source": [
    "##### shrink_x, shrink_y = shrunk_mouth.exterior.xy\n",
    "o_x, o_y = outer_mouth.exterior.xy\n",
    "\n",
    "print(len(shrink_x))\n",
    "print(len(o_x))"
   ]
  },
  {
   "cell_type": "code",
   "execution_count": 93,
   "metadata": {},
   "outputs": [
    {
     "data": {
      "image/png": "[encoded data removed]",
      "text/plain": [
       "<Figure size 432x288 with 1 Axes>"
      ]
     },
     "metadata": {
      "needs_background": "light"
     },
     "output_type": "display_data"
    }
   ],
   "source": [
    "#     visualize for debugging\n",
    "x, y = shrunk_mouth.exterior.xy\n",
    "plt.plot(x,y)\n",
    "\n",
    "x, y = swelled_mouth.exterior.xy\n",
    "plt.plot(x,y)\n",
    "# to net let the image be distorted along the axis\n",
    "plt.axis('equal')\n",
    "plt.show() "
   ]
  },
  {
   "cell_type": "code",
   "execution_count": 99,
   "metadata": {},
   "outputs": [],
   "source": [
    "swell_x, swell_y = swelled_mouth.exterior.xy\n",
    "shrink_x, shrink_y = shrunk_mouth.exterior.xy"
   ]
  },
  {
   "cell_type": "code",
   "execution_count": 103,
   "metadata": {},
   "outputs": [
    {
     "data": {
      "text/plain": [
       "92"
      ]
     },
     "execution_count": 103,
     "metadata": {},
     "output_type": "execute_result"
    }
   ],
   "source": [
    "len(swell_y)"
   ]
  },
  {
   "cell_type": "code",
   "execution_count": 104,
   "metadata": {},
   "outputs": [
    {
     "data": {
      "text/plain": [
       "21"
      ]
     },
     "execution_count": 104,
     "metadata": {},
     "output_type": "execute_result"
    }
   ],
   "source": [
    "len(shrink_y)"
   ]
  },
  {
   "cell_type": "code",
   "execution_count": 102,
   "metadata": {},
   "outputs": [
    {
     "data": {
      "text/plain": [
       "11"
      ]
     },
     "execution_count": 102,
     "metadata": {},
     "output_type": "execute_result"
    }
   ],
   "source": []
  },
  {
   "cell_type": "code",
   "execution_count": null,
   "metadata": {},
   "outputs": [],
   "source": []
  }
 ],
 "metadata": {
  "interpreter": {
   "hash": "41d8f14059faf39cfb22c4f631b0edbf28e8b6a243236956f183081b9383f0a6"
  },
  "kernelspec": {
   "display_name": "Python 3 (ipykernel)",
   "language": "python",
   "name": "python3"
  },
  "language_info": {
   "codemirror_mode": {
    "name": "ipython",
    "version": 3
   },
   "file_extension": ".py",
   "mimetype": "text/x-python",
   "name": "python",
   "nbconvert_exporter": "python",
   "pygments_lexer": "ipython3",
   "version": "3.6.13"
  }
 },
 "nbformat": 4,
 "nbformat_minor": 2
}
